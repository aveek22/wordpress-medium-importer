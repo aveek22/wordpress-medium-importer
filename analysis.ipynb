{
 "metadata": {
  "language_info": {
   "codemirror_mode": {
    "name": "ipython",
    "version": 3
   },
   "file_extension": ".py",
   "mimetype": "text/x-python",
   "name": "python",
   "nbconvert_exporter": "python",
   "pygments_lexer": "ipython3",
   "version": "3.7.3-final"
  },
  "orig_nbformat": 2,
  "kernelspec": {
   "name": "python3",
   "display_name": "Python 3.7.3 64-bit",
   "metadata": {
    "interpreter": {
     "hash": "e534e48711db4d1e1c48977d0d14ff85b1f16d41bcc4fdfd88268a329b3c9d66"
    }
   }
  }
 },
 "nbformat": 4,
 "nbformat_minor": 2,
 "cells": [
  {
   "cell_type": "code",
   "execution_count": 1,
   "metadata": {},
   "outputs": [],
   "source": [
    "import requests\n",
    "import json"
   ]
  },
  {
   "cell_type": "code",
   "execution_count": 9,
   "metadata": {},
   "outputs": [],
   "source": [
    "url = f'https://api.rss2json.com/v1/api.json?rss_url=https://medium.com/feed/@aveek22'\n",
    "response = requests.get(url)\n",
    "string_raw_response_content = response.content.decode('utf-8')\n",
    "json_response = json.loads(string_raw_response_content)"
   ]
  },
  {
   "cell_type": "code",
   "execution_count": 19,
   "metadata": {},
   "outputs": [
    {
     "output_type": "execute_result",
     "data": {
      "text/plain": [
       "[]"
      ]
     },
     "metadata": {},
     "execution_count": 19
    }
   ],
   "source": [
    "json_response['items'][0]['categories']"
   ]
  },
  {
   "cell_type": "code",
   "execution_count": 23,
   "metadata": {},
   "outputs": [],
   "source": [
    "posts = []"
   ]
  },
  {
   "cell_type": "code",
   "execution_count": 24,
   "metadata": {},
   "outputs": [
    {
     "output_type": "stream",
     "name": "stdout",
     "text": [
      "0\n0\n0\n5\n5\n5\n5\n3\n"
     ]
    }
   ],
   "source": [
    "for item in json_response['items']:\n",
    "    print(len(item['categories']))\n",
    "    if(len(item['categories']) > 0):\n",
    "        posts.append(item)"
   ]
  },
  {
   "cell_type": "code",
   "execution_count": 25,
   "metadata": {},
   "outputs": [
    {
     "output_type": "execute_result",
     "data": {
      "text/plain": [
       "[{'title': 'Analyzing Houses for rent in Mumbai using QGIS and PostGIS Functions',\n",
       "  'pubDate': '2021-01-12 00:30:57',\n",
       "  'link': 'https://towardsdatascience.com/analyzing-houses-for-rent-in-mumbai-using-qgis-and-postgis-functions-7383e4223d0d?source=rss-58227e016105------2',\n",
       "  'guid': 'https://medium.com/p/7383e4223d0d',\n",
       "  'author': 'Aveek Das',\n",
       "  'thumbnail': 'https://cdn-images-1.medium.com/max/2600/0*F-uCcg_sfehMEtDq',\n",
       "  'description': '<div class=\"medium-feed-item\">\\n<p class=\"medium-feed-image\"><a href=\"https://towardsdatascience.com/analyzing-houses-for-rent-in-mumbai-using-qgis-and-postgis-functions-7383e4223d0d?source=rss-58227e016105------2\"><img src=\"https://cdn-images-1.medium.com/max/2600/0*F-uCcg_sfehMEtDq\" width=\"2600\"></a></p>\\n<p class=\"medium-feed-snippet\">A spatial data analysis using QGIS</p>\\n<p class=\"medium-feed-link\"><a href=\"https://towardsdatascience.com/analyzing-houses-for-rent-in-mumbai-using-qgis-and-postgis-functions-7383e4223d0d?source=rss-58227e016105------2\">Continue reading on Towards Data Science »</a></p>\\n</div>',\n",
       "  'content': '<div class=\"medium-feed-item\">\\n<p class=\"medium-feed-image\"><a href=\"https://towardsdatascience.com/analyzing-houses-for-rent-in-mumbai-using-qgis-and-postgis-functions-7383e4223d0d?source=rss-58227e016105------2\"><img src=\"https://cdn-images-1.medium.com/max/2600/0*F-uCcg_sfehMEtDq\" width=\"2600\"></a></p>\\n<p class=\"medium-feed-snippet\">A spatial data analysis using QGIS</p>\\n<p class=\"medium-feed-link\"><a href=\"https://towardsdatascience.com/analyzing-houses-for-rent-in-mumbai-using-qgis-and-postgis-functions-7383e4223d0d?source=rss-58227e016105------2\">Continue reading on Towards Data Science »</a></p>\\n</div>',\n",
       "  'enclosure': {},\n",
       "  'categories': ['data-analysis',\n",
       "   'qgis',\n",
       "   'maps',\n",
       "   'data-science',\n",
       "   'spatial-analysis']},\n",
       " {'title': 'Getting started with the AWS SAM CLI',\n",
       "  'pubDate': '2020-08-17 10:48:16',\n",
       "  'link': 'https://towardsdatascience.com/getting-started-with-the-aws-sam-cli-f68062674c20?source=rss-58227e016105------2',\n",
       "  'guid': 'https://medium.com/p/f68062674c20',\n",
       "  'author': 'Aveek Das',\n",
       "  'thumbnail': 'https://cdn-images-1.medium.com/max/2600/1*dhUaNFsYJMVV2d9m6wd2Qw.jpeg',\n",
       "  'description': '<div class=\"medium-feed-item\">\\n<p class=\"medium-feed-image\"><a href=\"https://towardsdatascience.com/getting-started-with-the-aws-sam-cli-f68062674c20?source=rss-58227e016105------2\"><img src=\"https://cdn-images-1.medium.com/max/2600/1*dhUaNFsYJMVV2d9m6wd2Qw.jpeg\" width=\"5991\"></a></p>\\n<p class=\"medium-feed-snippet\">Understand how to use the AWS SAM CLI to debug lambda functions locally</p>\\n<p class=\"medium-feed-link\"><a href=\"https://towardsdatascience.com/getting-started-with-the-aws-sam-cli-f68062674c20?source=rss-58227e016105------2\">Continue reading on Towards Data Science »</a></p>\\n</div>',\n",
       "  'content': '<div class=\"medium-feed-item\">\\n<p class=\"medium-feed-image\"><a href=\"https://towardsdatascience.com/getting-started-with-the-aws-sam-cli-f68062674c20?source=rss-58227e016105------2\"><img src=\"https://cdn-images-1.medium.com/max/2600/1*dhUaNFsYJMVV2d9m6wd2Qw.jpeg\" width=\"5991\"></a></p>\\n<p class=\"medium-feed-snippet\">Understand how to use the AWS SAM CLI to debug lambda functions locally</p>\\n<p class=\"medium-feed-link\"><a href=\"https://towardsdatascience.com/getting-started-with-the-aws-sam-cli-f68062674c20?source=rss-58227e016105------2\">Continue reading on Towards Data Science »</a></p>\\n</div>',\n",
       "  'enclosure': {},\n",
       "  'categories': ['aws', 'aws-sam', 'aws-lambda', 'python', 'cloud-computing']},\n",
       " {'title': 'Conditional formatting in Power BI',\n",
       "  'pubDate': '2020-03-18 12:07:37',\n",
       "  'link': 'https://towardsdatascience.com/conditional-formatting-in-power-bi-3e3bd1198b8e?source=rss-58227e016105------2',\n",
       "  'guid': 'https://medium.com/p/3e3bd1198b8e',\n",
       "  'author': 'Aveek Das',\n",
       "  'thumbnail': 'https://cdn-images-1.medium.com/max/1766/0*hrUaINeqSTCyDW1S.png',\n",
       "  'description': '<div class=\"medium-feed-item\">\\n<p class=\"medium-feed-image\"><a href=\"https://towardsdatascience.com/conditional-formatting-in-power-bi-3e3bd1198b8e?source=rss-58227e016105------2\"><img src=\"https://cdn-images-1.medium.com/max/1766/0*hrUaINeqSTCyDW1S.png\" width=\"1766\"></a></p>\\n<p class=\"medium-feed-snippet\">Understand how to apply conditional formatting in Power BI visuals</p>\\n<p class=\"medium-feed-link\"><a href=\"https://towardsdatascience.com/conditional-formatting-in-power-bi-3e3bd1198b8e?source=rss-58227e016105------2\">Continue reading on Towards Data Science »</a></p>\\n</div>',\n",
       "  'content': '<div class=\"medium-feed-item\">\\n<p class=\"medium-feed-image\"><a href=\"https://towardsdatascience.com/conditional-formatting-in-power-bi-3e3bd1198b8e?source=rss-58227e016105------2\"><img src=\"https://cdn-images-1.medium.com/max/1766/0*hrUaINeqSTCyDW1S.png\" width=\"1766\"></a></p>\\n<p class=\"medium-feed-snippet\">Understand how to apply conditional formatting in Power BI visuals</p>\\n<p class=\"medium-feed-link\"><a href=\"https://towardsdatascience.com/conditional-formatting-in-power-bi-3e3bd1198b8e?source=rss-58227e016105------2\">Continue reading on Towards Data Science »</a></p>\\n</div>',\n",
       "  'enclosure': {},\n",
       "  'categories': ['database',\n",
       "   'data-science',\n",
       "   'analytics',\n",
       "   'power-bi',\n",
       "   'data-visualization']},\n",
       " {'title': 'How to sort months chronologically in Power BI',\n",
       "  'pubDate': '2020-03-16 12:35:03',\n",
       "  'link': 'https://towardsdatascience.com/how-to-sort-months-chronologically-in-power-bi-73dac77850e1?source=rss-58227e016105------2',\n",
       "  'guid': 'https://medium.com/p/73dac77850e1',\n",
       "  'author': 'Aveek Das',\n",
       "  'thumbnail': 'https://cdn-images-1.medium.com/max/690/0*2xDUfaFmZRyFXvY6.png',\n",
       "  'description': '<div class=\"medium-feed-item\">\\n<p class=\"medium-feed-image\"><a href=\"https://towardsdatascience.com/how-to-sort-months-chronologically-in-power-bi-73dac77850e1?source=rss-58227e016105------2\"><img src=\"https://cdn-images-1.medium.com/max/690/0*2xDUfaFmZRyFXvY6.png\" width=\"690\"></a></p>\\n<p class=\"medium-feed-snippet\">Learn how to sort month fields in chronological order within Power BI</p>\\n<p class=\"medium-feed-link\"><a href=\"https://towardsdatascience.com/how-to-sort-months-chronologically-in-power-bi-73dac77850e1?source=rss-58227e016105------2\">Continue reading on Towards Data Science »</a></p>\\n</div>',\n",
       "  'content': '<div class=\"medium-feed-item\">\\n<p class=\"medium-feed-image\"><a href=\"https://towardsdatascience.com/how-to-sort-months-chronologically-in-power-bi-73dac77850e1?source=rss-58227e016105------2\"><img src=\"https://cdn-images-1.medium.com/max/690/0*2xDUfaFmZRyFXvY6.png\" width=\"690\"></a></p>\\n<p class=\"medium-feed-snippet\">Learn how to sort month fields in chronological order within Power BI</p>\\n<p class=\"medium-feed-link\"><a href=\"https://towardsdatascience.com/how-to-sort-months-chronologically-in-power-bi-73dac77850e1?source=rss-58227e016105------2\">Continue reading on Towards Data Science »</a></p>\\n</div>',\n",
       "  'enclosure': {},\n",
       "  'categories': ['azure',\n",
       "   'microsoft',\n",
       "   'power-bi',\n",
       "   'data-visualization',\n",
       "   'power-bi-tutorials']},\n",
       " {'title': 'Modular ETL Architecture Design in SSIS',\n",
       "  'pubDate': '2019-10-27 11:33:41',\n",
       "  'link': 'https://medium.com/@aveek22/modular-etl-architecture-design-in-ssis-9460b0303acc?source=rss-58227e016105------2',\n",
       "  'guid': 'https://medium.com/p/9460b0303acc',\n",
       "  'author': 'Aveek Das',\n",
       "  'thumbnail': 'https://cdn-images-1.medium.com/max/931/1*ff86q0hUoP4bVx_yxs7wOQ.png',\n",
       "  'description': '\\n<h3>Overview of ETL Architecture</h3>\\n<p>In a data warehouse, one of the main parts of the entire system is the <a href=\"https://www.webopedia.com/TERM/E/ETL.html\">ETL</a> process. ETL is the system that reads data from the source system, transforms the data according to the business logic, and finally loads it into the warehouse. While fetching data from the sources can seem to be an easy task, it isn’t always the case. Some systems are made up of various data sources, which make the overall ETL architecture quite complex to be implemented and maintained.</p>\\n<h3>Challenges</h3>\\n<p>One of the main challenges that I often face while working as a BI Engineer is how to design the correct architecture for the ETL process. Well, to be honest, there is nothing called the correct architecture. The best architecture actually depends on the requirements of how the other components are designed or set up. In my opinion, whenever there is a need to design an ETL process, the most important part would be to understand what are the data sources and how are they going to be connected.</p>\\n<p>In ETL architecture, there are a different number of ways in which we can design the SSIS packages. One such approach is to build the entire package in a modular way, such that we keep the dependencies for each data marts to the minimum. This is usually achieved by building separate child packages for each data marts and then integrating all these packages into a master package that will handle the overall package execution. The main advantage of building a modular architecture is that the individual child packages can be executed independently in case there are some data quality issues with one of the marts without having to execute any other packages.</p>\\n<h3>Explanation</h3>\\n<p>For the purpose of the demonstration, I’ll take an example of a simple ETL application that is going to populate a data warehouse. The warehouse has two main subject areas ( <em>Sales</em> and <em>Orders</em>) that we want to populate. It is possible that there might be some dimensions that are specific to each of the marts and also shared dimensions as well. We will design the packages for each mart in such a way that the shared dimensions will be included in both the packages. However, in this case, an important thing to make sure is that there must be some logic for the dimensions which restrict them from re-populating the same data again and again if the packages are re-executed.</p>\\n<p>The structure for all the child packages will be similar which will follow the execution sequence as\\xa0below:</p>\\n<ol>\\n<li>\\n<strong>Extract</strong>\\u200a—\\u200aIn this phase, we will fetch all data from each of the sources into our staging\\xa0layer.</li>\\n<li>\\n<strong>Preparation</strong>\\u200a—\\u200aThis is a validation phase before implementing the business logic to ensure data quality is good. In this phase, the source data is being cleaned and validated that there aren’t any orphan records, which might break referential integrity.</li>\\n<li>\\n<strong>Load &amp; Transform</strong>\\u200a—\\u200aIn this phase, the data is transformed and then loaded into the physical warehouse tables.</li>\\n<li>\\n<strong>Process OLAP</strong>\\u200a—\\u200aOnce the data is available in the warehouse, it is now time we can process the OLAP cubes which will be the presentation layer for the entire analytics application.</li>\\n</ol>\\n<figure><img alt=\"\" src=\"https://cdn-images-1.medium.com/max/931/1*ff86q0hUoP4bVx_yxs7wOQ.png\"></figure><p>This sequence diagram explains how the entire ETL process is executed from the master package. At first, the master package is executed and it triggers the Extract phase for all the individual child packages. This will ensure that we have all the data from the source available in our staging layer before further processing. Then, the Validation is started, which is followed by the Transform &amp; Load phase. Finally, the individual cubes are processed from the master package which refreshes the presentation layer with the latest\\xa0data.</p>\\n<p>Now, if we encounter any data issues with the Sales mart, we can simply go ahead and clean up the entire Sales data from the warehouse and the staging layer. This time, instead of executing the master package, we will execute only the Sales package. This will repopulate the data into the warehouse without affecting any other data\\xa0marts.</p>\\n<h3>Take away</h3>\\n<p>This is a very simple example of how modularity is achieved using SSIS. The child packages can be executed sequentially or in parallel which again depends upon the infrastructure and also the business requirements. Building ETL packages in a modular way help to maintain less dependency on other packages and also reduces the maintenance of the packages in the long\\xa0run.</p>\\n<p><em>Originally published at </em><a href=\"https://www.linkedin.com/pulse/modular-etl-architecture-design-ssis-aveek-das/\"><em>https://www.linkedin.com</em></a><em>.</em></p>\\n<img src=\"https://medium.com/_/stat?event=post.clientViewed&amp;referrerSource=full_rss&amp;postId=9460b0303acc\" width=\"1\" height=\"1\" alt=\"\">\\n',\n",
       "  'content': '\\n<h3>Overview of ETL Architecture</h3>\\n<p>In a data warehouse, one of the main parts of the entire system is the <a href=\"https://www.webopedia.com/TERM/E/ETL.html\">ETL</a> process. ETL is the system that reads data from the source system, transforms the data according to the business logic, and finally loads it into the warehouse. While fetching data from the sources can seem to be an easy task, it isn’t always the case. Some systems are made up of various data sources, which make the overall ETL architecture quite complex to be implemented and maintained.</p>\\n<h3>Challenges</h3>\\n<p>One of the main challenges that I often face while working as a BI Engineer is how to design the correct architecture for the ETL process. Well, to be honest, there is nothing called the correct architecture. The best architecture actually depends on the requirements of how the other components are designed or set up. In my opinion, whenever there is a need to design an ETL process, the most important part would be to understand what are the data sources and how are they going to be connected.</p>\\n<p>In ETL architecture, there are a different number of ways in which we can design the SSIS packages. One such approach is to build the entire package in a modular way, such that we keep the dependencies for each data marts to the minimum. This is usually achieved by building separate child packages for each data marts and then integrating all these packages into a master package that will handle the overall package execution. The main advantage of building a modular architecture is that the individual child packages can be executed independently in case there are some data quality issues with one of the marts without having to execute any other packages.</p>\\n<h3>Explanation</h3>\\n<p>For the purpose of the demonstration, I’ll take an example of a simple ETL application that is going to populate a data warehouse. The warehouse has two main subject areas ( <em>Sales</em> and <em>Orders</em>) that we want to populate. It is possible that there might be some dimensions that are specific to each of the marts and also shared dimensions as well. We will design the packages for each mart in such a way that the shared dimensions will be included in both the packages. However, in this case, an important thing to make sure is that there must be some logic for the dimensions which restrict them from re-populating the same data again and again if the packages are re-executed.</p>\\n<p>The structure for all the child packages will be similar which will follow the execution sequence as\\xa0below:</p>\\n<ol>\\n<li>\\n<strong>Extract</strong>\\u200a—\\u200aIn this phase, we will fetch all data from each of the sources into our staging\\xa0layer.</li>\\n<li>\\n<strong>Preparation</strong>\\u200a—\\u200aThis is a validation phase before implementing the business logic to ensure data quality is good. In this phase, the source data is being cleaned and validated that there aren’t any orphan records, which might break referential integrity.</li>\\n<li>\\n<strong>Load &amp; Transform</strong>\\u200a—\\u200aIn this phase, the data is transformed and then loaded into the physical warehouse tables.</li>\\n<li>\\n<strong>Process OLAP</strong>\\u200a—\\u200aOnce the data is available in the warehouse, it is now time we can process the OLAP cubes which will be the presentation layer for the entire analytics application.</li>\\n</ol>\\n<figure><img alt=\"\" src=\"https://cdn-images-1.medium.com/max/931/1*ff86q0hUoP4bVx_yxs7wOQ.png\"></figure><p>This sequence diagram explains how the entire ETL process is executed from the master package. At first, the master package is executed and it triggers the Extract phase for all the individual child packages. This will ensure that we have all the data from the source available in our staging layer before further processing. Then, the Validation is started, which is followed by the Transform &amp; Load phase. Finally, the individual cubes are processed from the master package which refreshes the presentation layer with the latest\\xa0data.</p>\\n<p>Now, if we encounter any data issues with the Sales mart, we can simply go ahead and clean up the entire Sales data from the warehouse and the staging layer. This time, instead of executing the master package, we will execute only the Sales package. This will repopulate the data into the warehouse without affecting any other data\\xa0marts.</p>\\n<h3>Take away</h3>\\n<p>This is a very simple example of how modularity is achieved using SSIS. The child packages can be executed sequentially or in parallel which again depends upon the infrastructure and also the business requirements. Building ETL packages in a modular way help to maintain less dependency on other packages and also reduces the maintenance of the packages in the long\\xa0run.</p>\\n<p><em>Originally published at </em><a href=\"https://www.linkedin.com/pulse/modular-etl-architecture-design-ssis-aveek-das/\"><em>https://www.linkedin.com</em></a><em>.</em></p>\\n<img src=\"https://medium.com/_/stat?event=post.clientViewed&amp;referrerSource=full_rss&amp;postId=9460b0303acc\" width=\"1\" height=\"1\" alt=\"\">\\n',\n",
       "  'enclosure': {},\n",
       "  'categories': ['ssis-training', 'sql', 'big-data']}]"
      ]
     },
     "metadata": {},
     "execution_count": 25
    }
   ],
   "source": [
    "posts"
   ]
  },
  {
   "cell_type": "code",
   "execution_count": 32,
   "metadata": {},
   "outputs": [],
   "source": [
    "output = ''\n",
    "for item in posts:\n",
    "    output += f'''<li class=\"blog__post\">\n",
    "            <a href=\"{item['link']}\">\n",
    "               <img src=\"{item['thumbnail']}\" class=\"blog__topImg\"></img>\n",
    "               <div class=\"blog__content\">\n",
    "                  <div class=\"blog_preview\">\n",
    "                     <h2 class=\"blog__title\">{item['title']}</h2>\n",
    "                     <p class=\"blog__intro\">{item['content']}</p>\n",
    "                  </div>\n",
    "                  <hr>\n",
    "                  <div class=\"blog__info\">\n",
    "                     <span class=\"blog__author\">{item['author']}</span>\n",
    "                     <span class=\"blog__date\">{item['pubDate']}</span>\n",
    "                  </div>\n",
    "               </div>\n",
    "            <a/>\n",
    "         </li>'''"
   ]
  },
  {
   "cell_type": "code",
   "execution_count": 33,
   "metadata": {},
   "outputs": [
    {
     "output_type": "execute_result",
     "data": {
      "text/plain": [
       "'<li class=\"blog__post\">\\n            <a href=\"https://towardsdatascience.com/analyzing-houses-for-rent-in-mumbai-using-qgis-and-postgis-functions-7383e4223d0d?source=rss-58227e016105------2\">\\n               <img src=\"https://cdn-images-1.medium.com/max/2600/0*F-uCcg_sfehMEtDq\" class=\"blog__topImg\"></img>\\n               <div class=\"blog__content\">\\n                  <div class=\"blog_preview\">\\n                     <h2 class=\"blog__title\">Analyzing Houses for rent in Mumbai using QGIS and PostGIS Functions</h2>\\n                     <p class=\"blog__intro\"><div class=\"medium-feed-item\">\\n<p class=\"medium-feed-image\"><a href=\"https://towardsdatascience.com/analyzing-houses-for-rent-in-mumbai-using-qgis-and-postgis-functions-7383e4223d0d?source=rss-58227e016105------2\"><img src=\"https://cdn-images-1.medium.com/max/2600/0*F-uCcg_sfehMEtDq\" width=\"2600\"></a></p>\\n<p class=\"medium-feed-snippet\">A spatial data analysis using QGIS</p>\\n<p class=\"medium-feed-link\"><a href=\"https://towardsdatascience.com/analyzing-houses-for-rent-in-mumbai-using-qgis-and-postgis-functions-7383e4223d0d?source=rss-58227e016105------2\">Continue reading on Towards Data Science »</a></p>\\n</div></p>\\n                  </div>\\n                  <hr>\\n                  <div class=\"blog__info\">\\n                     <span class=\"blog__author\">Aveek Das</span>\\n                     <span class=\"blog__date\">2021-01-12 00:30:57</span>\\n                  </div>\\n               </div>\\n            <a/>\\n         </li><li class=\"blog__post\">\\n            <a href=\"https://towardsdatascience.com/getting-started-with-the-aws-sam-cli-f68062674c20?source=rss-58227e016105------2\">\\n               <img src=\"https://cdn-images-1.medium.com/max/2600/1*dhUaNFsYJMVV2d9m6wd2Qw.jpeg\" class=\"blog__topImg\"></img>\\n               <div class=\"blog__content\">\\n                  <div class=\"blog_preview\">\\n                     <h2 class=\"blog__title\">Getting started with the AWS SAM CLI</h2>\\n                     <p class=\"blog__intro\"><div class=\"medium-feed-item\">\\n<p class=\"medium-feed-image\"><a href=\"https://towardsdatascience.com/getting-started-with-the-aws-sam-cli-f68062674c20?source=rss-58227e016105------2\"><img src=\"https://cdn-images-1.medium.com/max/2600/1*dhUaNFsYJMVV2d9m6wd2Qw.jpeg\" width=\"5991\"></a></p>\\n<p class=\"medium-feed-snippet\">Understand how to use the AWS SAM CLI to debug lambda functions locally</p>\\n<p class=\"medium-feed-link\"><a href=\"https://towardsdatascience.com/getting-started-with-the-aws-sam-cli-f68062674c20?source=rss-58227e016105------2\">Continue reading on Towards Data Science »</a></p>\\n</div></p>\\n                  </div>\\n                  <hr>\\n                  <div class=\"blog__info\">\\n                     <span class=\"blog__author\">Aveek Das</span>\\n                     <span class=\"blog__date\">2020-08-17 10:48:16</span>\\n                  </div>\\n               </div>\\n            <a/>\\n         </li><li class=\"blog__post\">\\n            <a href=\"https://towardsdatascience.com/conditional-formatting-in-power-bi-3e3bd1198b8e?source=rss-58227e016105------2\">\\n               <img src=\"https://cdn-images-1.medium.com/max/1766/0*hrUaINeqSTCyDW1S.png\" class=\"blog__topImg\"></img>\\n               <div class=\"blog__content\">\\n                  <div class=\"blog_preview\">\\n                     <h2 class=\"blog__title\">Conditional formatting in Power BI</h2>\\n                     <p class=\"blog__intro\"><div class=\"medium-feed-item\">\\n<p class=\"medium-feed-image\"><a href=\"https://towardsdatascience.com/conditional-formatting-in-power-bi-3e3bd1198b8e?source=rss-58227e016105------2\"><img src=\"https://cdn-images-1.medium.com/max/1766/0*hrUaINeqSTCyDW1S.png\" width=\"1766\"></a></p>\\n<p class=\"medium-feed-snippet\">Understand how to apply conditional formatting in Power BI visuals</p>\\n<p class=\"medium-feed-link\"><a href=\"https://towardsdatascience.com/conditional-formatting-in-power-bi-3e3bd1198b8e?source=rss-58227e016105------2\">Continue reading on Towards Data Science »</a></p>\\n</div></p>\\n                  </div>\\n                  <hr>\\n                  <div class=\"blog__info\">\\n                     <span class=\"blog__author\">Aveek Das</span>\\n                     <span class=\"blog__date\">2020-03-18 12:07:37</span>\\n                  </div>\\n               </div>\\n            <a/>\\n         </li><li class=\"blog__post\">\\n            <a href=\"https://towardsdatascience.com/how-to-sort-months-chronologically-in-power-bi-73dac77850e1?source=rss-58227e016105------2\">\\n               <img src=\"https://cdn-images-1.medium.com/max/690/0*2xDUfaFmZRyFXvY6.png\" class=\"blog__topImg\"></img>\\n               <div class=\"blog__content\">\\n                  <div class=\"blog_preview\">\\n                     <h2 class=\"blog__title\">How to sort months chronologically in Power BI</h2>\\n                     <p class=\"blog__intro\"><div class=\"medium-feed-item\">\\n<p class=\"medium-feed-image\"><a href=\"https://towardsdatascience.com/how-to-sort-months-chronologically-in-power-bi-73dac77850e1?source=rss-58227e016105------2\"><img src=\"https://cdn-images-1.medium.com/max/690/0*2xDUfaFmZRyFXvY6.png\" width=\"690\"></a></p>\\n<p class=\"medium-feed-snippet\">Learn how to sort month fields in chronological order within Power BI</p>\\n<p class=\"medium-feed-link\"><a href=\"https://towardsdatascience.com/how-to-sort-months-chronologically-in-power-bi-73dac77850e1?source=rss-58227e016105------2\">Continue reading on Towards Data Science »</a></p>\\n</div></p>\\n                  </div>\\n                  <hr>\\n                  <div class=\"blog__info\">\\n                     <span class=\"blog__author\">Aveek Das</span>\\n                     <span class=\"blog__date\">2020-03-16 12:35:03</span>\\n                  </div>\\n               </div>\\n            <a/>\\n         </li><li class=\"blog__post\">\\n            <a href=\"https://medium.com/@aveek22/modular-etl-architecture-design-in-ssis-9460b0303acc?source=rss-58227e016105------2\">\\n               <img src=\"https://cdn-images-1.medium.com/max/931/1*ff86q0hUoP4bVx_yxs7wOQ.png\" class=\"blog__topImg\"></img>\\n               <div class=\"blog__content\">\\n                  <div class=\"blog_preview\">\\n                     <h2 class=\"blog__title\">Modular ETL Architecture Design in SSIS</h2>\\n                     <p class=\"blog__intro\">\\n<h3>Overview of ETL Architecture</h3>\\n<p>In a data warehouse, one of the main parts of the entire system is the <a href=\"https://www.webopedia.com/TERM/E/ETL.html\">ETL</a> process. ETL is the system that reads data from the source system, transforms the data according to the business logic, and finally loads it into the warehouse. While fetching data from the sources can seem to be an easy task, it isn’t always the case. Some systems are made up of various data sources, which make the overall ETL architecture quite complex to be implemented and maintained.</p>\\n<h3>Challenges</h3>\\n<p>One of the main challenges that I often face while working as a BI Engineer is how to design the correct architecture for the ETL process. Well, to be honest, there is nothing called the correct architecture. The best architecture actually depends on the requirements of how the other components are designed or set up. In my opinion, whenever there is a need to design an ETL process, the most important part would be to understand what are the data sources and how are they going to be connected.</p>\\n<p>In ETL architecture, there are a different number of ways in which we can design the SSIS packages. One such approach is to build the entire package in a modular way, such that we keep the dependencies for each data marts to the minimum. This is usually achieved by building separate child packages for each data marts and then integrating all these packages into a master package that will handle the overall package execution. The main advantage of building a modular architecture is that the individual child packages can be executed independently in case there are some data quality issues with one of the marts without having to execute any other packages.</p>\\n<h3>Explanation</h3>\\n<p>For the purpose of the demonstration, I’ll take an example of a simple ETL application that is going to populate a data warehouse. The warehouse has two main subject areas ( <em>Sales</em> and <em>Orders</em>) that we want to populate. It is possible that there might be some dimensions that are specific to each of the marts and also shared dimensions as well. We will design the packages for each mart in such a way that the shared dimensions will be included in both the packages. However, in this case, an important thing to make sure is that there must be some logic for the dimensions which restrict them from re-populating the same data again and again if the packages are re-executed.</p>\\n<p>The structure for all the child packages will be similar which will follow the execution sequence as\\xa0below:</p>\\n<ol>\\n<li>\\n<strong>Extract</strong>\\u200a—\\u200aIn this phase, we will fetch all data from each of the sources into our staging\\xa0layer.</li>\\n<li>\\n<strong>Preparation</strong>\\u200a—\\u200aThis is a validation phase before implementing the business logic to ensure data quality is good. In this phase, the source data is being cleaned and validated that there aren’t any orphan records, which might break referential integrity.</li>\\n<li>\\n<strong>Load &amp; Transform</strong>\\u200a—\\u200aIn this phase, the data is transformed and then loaded into the physical warehouse tables.</li>\\n<li>\\n<strong>Process OLAP</strong>\\u200a—\\u200aOnce the data is available in the warehouse, it is now time we can process the OLAP cubes which will be the presentation layer for the entire analytics application.</li>\\n</ol>\\n<figure><img alt=\"\" src=\"https://cdn-images-1.medium.com/max/931/1*ff86q0hUoP4bVx_yxs7wOQ.png\"></figure><p>This sequence diagram explains how the entire ETL process is executed from the master package. At first, the master package is executed and it triggers the Extract phase for all the individual child packages. This will ensure that we have all the data from the source available in our staging layer before further processing. Then, the Validation is started, which is followed by the Transform &amp; Load phase. Finally, the individual cubes are processed from the master package which refreshes the presentation layer with the latest\\xa0data.</p>\\n<p>Now, if we encounter any data issues with the Sales mart, we can simply go ahead and clean up the entire Sales data from the warehouse and the staging layer. This time, instead of executing the master package, we will execute only the Sales package. This will repopulate the data into the warehouse without affecting any other data\\xa0marts.</p>\\n<h3>Take away</h3>\\n<p>This is a very simple example of how modularity is achieved using SSIS. The child packages can be executed sequentially or in parallel which again depends upon the infrastructure and also the business requirements. Building ETL packages in a modular way help to maintain less dependency on other packages and also reduces the maintenance of the packages in the long\\xa0run.</p>\\n<p><em>Originally published at </em><a href=\"https://www.linkedin.com/pulse/modular-etl-architecture-design-ssis-aveek-das/\"><em>https://www.linkedin.com</em></a><em>.</em></p>\\n<img src=\"https://medium.com/_/stat?event=post.clientViewed&amp;referrerSource=full_rss&amp;postId=9460b0303acc\" width=\"1\" height=\"1\" alt=\"\">\\n</p>\\n                  </div>\\n                  <hr>\\n                  <div class=\"blog__info\">\\n                     <span class=\"blog__author\">Aveek Das</span>\\n                     <span class=\"blog__date\">2019-10-27 11:33:41</span>\\n                  </div>\\n               </div>\\n            <a/>\\n         </li>'"
      ]
     },
     "metadata": {},
     "execution_count": 33
    }
   ],
   "source": [
    "output"
   ]
  },
  {
   "cell_type": "code",
   "execution_count": null,
   "metadata": {},
   "outputs": [],
   "source": []
  }
 ]
}