{
 "metadata": {
  "language_info": {
   "codemirror_mode": {
    "name": "ipython",
    "version": 3
   },
   "file_extension": ".py",
   "mimetype": "text/x-python",
   "name": "python",
   "nbconvert_exporter": "python",
   "pygments_lexer": "ipython3",
   "version": "3.7.3-final"
  },
  "orig_nbformat": 2,
  "kernelspec": {
   "name": "python3",
   "display_name": "Python 3.7.3 64-bit",
   "metadata": {
    "interpreter": {
     "hash": "e534e48711db4d1e1c48977d0d14ff85b1f16d41bcc4fdfd88268a329b3c9d66"
    }
   }
  }
 },
 "nbformat": 4,
 "nbformat_minor": 2,
 "cells": [
  {
   "cell_type": "code",
   "execution_count": 1,
   "metadata": {},
   "outputs": [],
   "source": [
    "import requests\n",
    "import json"
   ]
  },
  {
   "cell_type": "code",
   "execution_count": 2,
   "metadata": {},
   "outputs": [],
   "source": [
    "url = f'https://api.rss2json.com/v1/api.json?rss_url=https://medium.com/feed/@aveek22'\n",
    "response = requests.get(url)\n",
    "string_raw_response_content = response.content.decode('utf-8')\n",
    "json_response = json.loads(string_raw_response_content)"
   ]
  },
  {
   "cell_type": "code",
   "execution_count": 3,
   "metadata": {},
   "outputs": [
    {
     "output_type": "execute_result",
     "data": {
      "text/plain": [
       "[]"
      ]
     },
     "metadata": {},
     "execution_count": 3
    }
   ],
   "source": [
    "json_response['items'][0]['categories']"
   ]
  },
  {
   "cell_type": "code",
   "execution_count": null,
   "metadata": {},
   "outputs": [],
   "source": [
    "posts = []"
   ]
  },
  {
   "cell_type": "code",
   "execution_count": null,
   "metadata": {},
   "outputs": [],
   "source": [
    "for item in json_response['items']:\n",
    "    print(len(item['categories']))\n",
    "    if(len(item['categories']) > 0):\n",
    "        posts.append(item)"
   ]
  },
  {
   "cell_type": "code",
   "execution_count": null,
   "metadata": {},
   "outputs": [],
   "source": [
    "posts"
   ]
  },
  {
   "cell_type": "code",
   "execution_count": null,
   "metadata": {},
   "outputs": [],
   "source": [
    "output = ''\n",
    "for item in posts:\n",
    "    output += f'''<li class=\"blog__post\">\n",
    "            <a href=\"{item['link']}\">\n",
    "               <img src=\"{item['thumbnail']}\" class=\"blog__topImg\"></img>\n",
    "               <div class=\"blog__content\">\n",
    "                  <div class=\"blog_preview\">\n",
    "                     <h2 class=\"blog__title\">{item['title']}</h2>\n",
    "                     <p class=\"blog__intro\">{item['content']}</p>\n",
    "                  </div>\n",
    "                  <hr>\n",
    "                  <div class=\"blog__info\">\n",
    "                     <span class=\"blog__author\">{item['author']}</span>\n",
    "                     <span class=\"blog__date\">{item['pubDate']}</span>\n",
    "                  </div>\n",
    "               </div>\n",
    "            <a/>\n",
    "         </li>'''"
   ]
  },
  {
   "cell_type": "code",
   "execution_count": null,
   "metadata": {},
   "outputs": [],
   "source": [
    "output"
   ]
  },
  {
   "cell_type": "code",
   "execution_count": null,
   "metadata": {},
   "outputs": [],
   "source": []
  }
 ]
}